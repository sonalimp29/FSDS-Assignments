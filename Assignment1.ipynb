{
 "cells": [
  {
   "cell_type": "code",
   "execution_count": null,
   "metadata": {},
   "outputs": [],
   "source": [
    "# Question 1\n",
    "#1. In the below elements which of them are values or an expression? eg:- values can be\n",
    "integer or string and expressions will be mathematical operators.\n",
    "*\n",
    "hello\n",
    "-87.8\n",
    "-\n",
    "/\n",
    "+\n",
    "6"
   ]
  },
  {
   "cell_type": "code",
   "execution_count": null,
   "metadata": {},
   "outputs": [],
   "source": [
    "Mathematical Operators: *,-, +, /"
   ]
  },
  {
   "cell_type": "code",
   "execution_count": null,
   "metadata": {},
   "outputs": [],
   "source": [
    "Strings : hello"
   ]
  },
  {
   "cell_type": "code",
   "execution_count": 6,
   "metadata": {},
   "outputs": [
    {
     "name": "stdout",
     "output_type": "stream",
     "text": [
      "<class 'str'>\n"
     ]
    }
   ],
   "source": [
    "print(type('hello'))"
   ]
  },
  {
   "cell_type": "code",
   "execution_count": null,
   "metadata": {},
   "outputs": [],
   "source": [
    "Integer : 6"
   ]
  },
  {
   "cell_type": "code",
   "execution_count": 7,
   "metadata": {},
   "outputs": [
    {
     "name": "stdout",
     "output_type": "stream",
     "text": [
      "<class 'int'>\n"
     ]
    }
   ],
   "source": [
    "print(type(6))"
   ]
  },
  {
   "cell_type": "code",
   "execution_count": null,
   "metadata": {},
   "outputs": [],
   "source": [
    "Float : -87.8"
   ]
  },
  {
   "cell_type": "code",
   "execution_count": 5,
   "metadata": {},
   "outputs": [
    {
     "name": "stdout",
     "output_type": "stream",
     "text": [
      "<class 'float'>\n"
     ]
    }
   ],
   "source": [
    "print(type(-87.8))"
   ]
  },
  {
   "cell_type": "code",
   "execution_count": null,
   "metadata": {},
   "outputs": [],
   "source": []
  },
  {
   "cell_type": "code",
   "execution_count": null,
   "metadata": {},
   "outputs": [],
   "source": [
    "# Question2\n",
    "2. What is the difference between string and variable?"
   ]
  },
  {
   "cell_type": "code",
   "execution_count": null,
   "metadata": {},
   "outputs": [],
   "source": [
    "A variable is the name of location of the primary memory of the computer. A user can choose the variable.\n",
    "A variable can store any value of int, float, string\n",
    "A string is the value inside the quotes assigned to a particular variable."
   ]
  },
  {
   "cell_type": "code",
   "execution_count": null,
   "metadata": {},
   "outputs": [],
   "source": [
    "# examples of variable\n",
    "a=10\n",
    "b=-6\n",
    "c=\"sample\""
   ]
  },
  {
   "cell_type": "code",
   "execution_count": null,
   "metadata": {},
   "outputs": [],
   "source": [
    "# examples of string\n",
    "a=\"Thank You\"\n",
    "b=\"iNeuron\""
   ]
  },
  {
   "cell_type": "code",
   "execution_count": null,
   "metadata": {},
   "outputs": [],
   "source": [
    "# Question3\n",
    "3. Describe three different data types."
   ]
  },
  {
   "cell_type": "code",
   "execution_count": null,
   "metadata": {},
   "outputs": [],
   "source": [
    "Binary Types: memoryview, bytearray, bytes\n",
    "Boolean Type: bool\n",
    "Set Types: frozenset, set\n",
    "Mapping Type: dict\n",
    "Sequence Types: range, tuple, list\n",
    "Numeric Types: complex, float, int\n",
    "Text Type: str"
   ]
  },
  {
   "cell_type": "code",
   "execution_count": null,
   "metadata": {},
   "outputs": [],
   "source": [
    "# examples\n",
    "Integers:\n",
    "There is no maximum limit on the value of an integer. \n",
    "The integer can be of any length without any limitation which can go up to the maximum available memory of the system. \n",
    "Integers can look like this:\n",
    ">>print(123123123123123123123123123123123123123123123123123 + 1)\n",
    "123123123123123123123123123123123123123123123123124\n",
    "\n",
    "Floating Point Number:\n",
    "The difference between floating points and integers is decimal points. \n",
    "Floating point number can be represented as “1.0”, and integer can be represented as “1”. \n",
    "It is accurate up to 15 decimal places.\n",
    "Complex Number:\n",
    "“x + yj” is the written form of the complex number. Here y is the imaginary part and x is the real part."
   ]
  },
  {
   "cell_type": "code",
   "execution_count": null,
   "metadata": {},
   "outputs": [],
   "source": [
    " Python List\n",
    "An ordered sequence of items is called List.\n",
    "It is a very flexible data type in Python. \n",
    "There is no need for the value in the list to be of the same data type. \n",
    "The List is the data type that is highly used data type in Python. \n",
    "List datatype is the most exclusive datatype in Python for containing versatile data. \n",
    "It can easily hold different types of data in Python.  \n",
    "It is effortless to declare a list. The list is enclosed with brackets and commas are used to separate the items. \n",
    "\n",
    "A list can look like this:\n",
    "\n",
    ">>a = [5,9.9,’list’]\n",
    "\n",
    "One can also alter the value of an element in the list."
   ]
  },
  {
   "cell_type": "code",
   "execution_count": null,
   "metadata": {},
   "outputs": [],
   "source": [
    "Python Tuple\n",
    "A Tuple is a sequence of items that are in order, and it is not possible to modify the Tuples. \n",
    "The main difference list and tuples are that tuple is immutable, which means it cannot be altered. \n",
    "Tuples are generally faster than the list data type in Python because it cannot be changed or modified like list datatype. \n",
    "The primary use of Tuples is to write-protect data. \n",
    "Tuples can be represented by using parentheses (), and commas are used to separate the items. \n",
    "\n",
    "Tuples can look like this:\n",
    "\n",
    ">>t = (6,’tuple’,4+2r)\n",
    "\n",
    "In the case of a tuple, one can use the slicing operator to extract the item, but it will not allow changing the value. "
   ]
  },
  {
   "cell_type": "code",
   "execution_count": null,
   "metadata": {},
   "outputs": [],
   "source": [
    "Python Strings\n",
    "A String is a sequence of Unicode characters.\n",
    "In Python, String is called str. Strings are represented by using Double quotes or single quotes. \n",
    "If the strings are multiple, then it can be denoted by the use of triple quotes “”” or ”’. \n",
    "All the characters between the quotes are items of the string.\n",
    "One can put as many as the character they want with the only limitation being the memory resources of the machine system. \n",
    "Deletion or Updation of a string is not allowed in python programming language because it will cause an error. \n",
    "Thus, the modification of strings is not supported in the python programming language.\n",
    "A string can look like this:\n",
    "\n",
    ">>s = “Hello iNeuron”\n",
    "\n",
    "Strings are also immutable like tuples and items can be extracted using slicing operators [].\n",
    "If one wants to represent something in the string using quotes, then they will need to use other types of quotes to define the string in the beginning and the ending."
   ]
  },
  {
   "cell_type": "code",
   "execution_count": null,
   "metadata": {},
   "outputs": [],
   "source": [
    "Python Set\n",
    "The Collection of Unique items that are not in order is called Set. \n",
    "Braces {} are used to defined set and a comma is used to separate values.\n",
    "One will find that the items are unordered in a set data type.\n",
    "Duplicates are eliminated in a set and set only keeps unique values.\n",
    "Operations like intersection and union can be performed on two sets. \n",
    "\n",
    "Python set will look like this:\n",
    "\n",
    ">>a = {1,22,44,55,66,9,8,7,6,66}\n",
    "\n",
    "\n",
    "The slicing operator does not work on set because the set is not a collection of ordered items, and that is why there is no meaning to the indexing of set."
   ]
  },
  {
   "cell_type": "code",
   "execution_count": null,
   "metadata": {},
   "outputs": [],
   "source": [
    "Python Dictionary\n",
    "Dictionary is a type of python data type in which collections are unordered, and values are in pairs called key-value pairs. \n",
    "This type of data type is useful when there is a high volume of data. \n",
    "One of the best functions of Dictionaries data type is retrieving the data for which it is optimized. \n",
    "The value can only be retrieved if one knows the key to retrieve it. \n",
    "\n",
    "Braces {} (curly brackets) are used to define dictionaries data type in Python. \n",
    "A Pair in the dictionary data type is an item which is represented as key:value. The value and the key can be of any data type.\n",
    "\n",
    "Python Dictionary can look like this:\n",
    "\n",
    ">>d = {1 :'Hello', 2: 'How are you'}"
   ]
  },
  {
   "cell_type": "code",
   "execution_count": null,
   "metadata": {},
   "outputs": [],
   "source": [
    "Boolean Type\n",
    "There can be only two types of value in the Boolean data type of Python, and that is True or False. \n",
    "\n",
    "It can look like this:\n",
    "\n",
    ">>type(True)\n",
    "\n",
    "<class ‘bool’>\n",
    "\n",
    ">>type(False)\n",
    "\n",
    "<class ‘bool’>\n",
    "\n",
    "The true value in the Boolean context is called “truthy”, and for false value in the Boolean context, it is called “falsy”. \n",
    "Truthy is defined by the objects in boolean, which is equal to True, and in the same way, Falsy is defined by the objects equal to falsy. \n",
    "One can also evaluate Non-Boolean objects in a Boolean context."
   ]
  },
  {
   "cell_type": "code",
   "execution_count": null,
   "metadata": {},
   "outputs": [],
   "source": [
    "# question4\n",
    "4. What is an expression made up of? What do all expressions do?"
   ]
  },
  {
   "cell_type": "code",
   "execution_count": null,
   "metadata": {},
   "outputs": [],
   "source": [
    "Expression is made up of operations and operands.\n",
    "Expression gives some other values as the result."
   ]
  },
  {
   "cell_type": "code",
   "execution_count": null,
   "metadata": {},
   "outputs": [],
   "source": [
    "# Question5\n",
    "5. This assignment statements, like spam = 10. What is the difference between an\n",
    "expression and a statement?"
   ]
  },
  {
   "cell_type": "code",
   "execution_count": null,
   "metadata": {},
   "outputs": [],
   "source": [
    "An Expression evaluates to a SINGLE VALUE, a statment does not.\n",
    "\n",
    "spam = 10\n",
    "is an assignment where \"spam\" keyword is assigned value '10'"
   ]
  },
  {
   "cell_type": "code",
   "execution_count": null,
   "metadata": {},
   "outputs": [],
   "source": [
    "# Question6\n",
    "6. After running the following code, what does the variable bacon contain?\n",
    "bacon = 22\n",
    "bacon + 1"
   ]
  },
  {
   "cell_type": "code",
   "execution_count": 8,
   "metadata": {},
   "outputs": [
    {
     "data": {
      "text/plain": [
       "23"
      ]
     },
     "execution_count": 8,
     "metadata": {},
     "output_type": "execute_result"
    }
   ],
   "source": [
    "bacon = 22\n",
    "bacon + 1"
   ]
  },
  {
   "cell_type": "code",
   "execution_count": null,
   "metadata": {},
   "outputs": [],
   "source": [
    "ANSWER = bacon = 23"
   ]
  },
  {
   "cell_type": "code",
   "execution_count": null,
   "metadata": {},
   "outputs": [],
   "source": [
    "# Question7\n",
    "7. What should the values of the following two terms be?"
   ]
  },
  {
   "cell_type": "code",
   "execution_count": 9,
   "metadata": {},
   "outputs": [
    {
     "data": {
      "text/plain": [
       "'spamspamspam'"
      ]
     },
     "execution_count": 9,
     "metadata": {},
     "output_type": "execute_result"
    }
   ],
   "source": [
    "'spam' + 'spamspam'"
   ]
  },
  {
   "cell_type": "code",
   "execution_count": 10,
   "metadata": {},
   "outputs": [
    {
     "data": {
      "text/plain": [
       "'spamspamspam'"
      ]
     },
     "execution_count": 10,
     "metadata": {},
     "output_type": "execute_result"
    }
   ],
   "source": [
    "'spam'*3"
   ]
  },
  {
   "cell_type": "code",
   "execution_count": null,
   "metadata": {},
   "outputs": [],
   "source": [
    "8. Why is eggs a valid variable name while 100 is invalid?"
   ]
  },
  {
   "cell_type": "code",
   "execution_count": null,
   "metadata": {},
   "outputs": [],
   "source": [
    "'eggs' is not a reserved keyword in python so it can be used as a variable.\n",
    "While 100 is a value which can not be used a valid variable."
   ]
  },
  {
   "cell_type": "code",
   "execution_count": null,
   "metadata": {},
   "outputs": [],
   "source": [
    "9. What three functions can be used to get the integer, floating-point number, or string\n",
    "version of a value?"
   ]
  },
  {
   "cell_type": "code",
   "execution_count": null,
   "metadata": {},
   "outputs": [],
   "source": [
    "int()\n",
    "float()\n",
    "str()"
   ]
  },
  {
   "cell_type": "code",
   "execution_count": null,
   "metadata": {},
   "outputs": [],
   "source": [
    "10. Why does this expression cause an error? How can you fix it?\n",
    "We get the following error:\n",
    "TypeError: can only concatenate str (not \"int\") to str."
   ]
  },
  {
   "cell_type": "code",
   "execution_count": 11,
   "metadata": {},
   "outputs": [
    {
     "ename": "TypeError",
     "evalue": "can only concatenate str (not \"int\") to str",
     "output_type": "error",
     "traceback": [
      "\u001b[1;31m---------------------------------------------------------------------------\u001b[0m",
      "\u001b[1;31mTypeError\u001b[0m                                 Traceback (most recent call last)",
      "\u001b[1;32m<ipython-input-11-74c1462f57c4>\u001b[0m in \u001b[0;36m<module>\u001b[1;34m\u001b[0m\n\u001b[1;32m----> 1\u001b[1;33m \u001b[1;34m'I have eaten'\u001b[0m\u001b[1;33m+\u001b[0m \u001b[1;36m99\u001b[0m \u001b[1;33m+\u001b[0m \u001b[1;34m'burritos.'\u001b[0m\u001b[1;33m\u001b[0m\u001b[1;33m\u001b[0m\u001b[0m\n\u001b[0m",
      "\u001b[1;31mTypeError\u001b[0m: can only concatenate str (not \"int\") to str"
     ]
    }
   ],
   "source": [
    "'I have eaten'+ 99 + 'burritos.'"
   ]
  },
  {
   "cell_type": "code",
   "execution_count": 13,
   "metadata": {},
   "outputs": [
    {
     "data": {
      "text/plain": [
       "'I have eaten burritos.'"
      ]
     },
     "execution_count": 13,
     "metadata": {},
     "output_type": "execute_result"
    }
   ],
   "source": [
    "'I have eaten' + ' burritos.'"
   ]
  },
  {
   "cell_type": "code",
   "execution_count": null,
   "metadata": {},
   "outputs": [],
   "source": []
  }
 ],
 "metadata": {
  "kernelspec": {
   "display_name": "Python 3",
   "language": "python",
   "name": "python3"
  },
  "language_info": {
   "codemirror_mode": {
    "name": "ipython",
    "version": 3
   },
   "file_extension": ".py",
   "mimetype": "text/x-python",
   "name": "python",
   "nbconvert_exporter": "python",
   "pygments_lexer": "ipython3",
   "version": "3.7.4"
  }
 },
 "nbformat": 4,
 "nbformat_minor": 2
}
