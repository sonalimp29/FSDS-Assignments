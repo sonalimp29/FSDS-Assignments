{
 "cells": [
  {
   "cell_type": "code",
   "execution_count": null,
   "metadata": {},
   "outputs": [],
   "source": [
    "1."
   ]
  },
  {
   "cell_type": "code",
   "execution_count": null,
   "metadata": {},
   "outputs": [],
   "source": [
    "# Assert Condition\n",
    "assert condition [, Error Message] "
   ]
  },
  {
   "cell_type": "code",
   "execution_count": 1,
   "metadata": {},
   "outputs": [
    {
     "name": "stdout",
     "output_type": "stream",
     "text": [
      "No negative values allowed\n"
     ]
    }
   ],
   "source": [
    "spam =-1\n",
    "assert spam <0\n",
    "print(\"No negative values allowed\")"
   ]
  },
  {
   "cell_type": "code",
   "execution_count": null,
   "metadata": {},
   "outputs": [],
   "source": [
    "2."
   ]
  },
  {
   "cell_type": "code",
   "execution_count": 8,
   "metadata": {},
   "outputs": [],
   "source": [
    "eggs = 'hello'\n",
    "bacon = 'goodbye'\n",
    "\n",
    "assert eggs.lower() != bacon.lower(), 'eggs/bacon should not be same'"
   ]
  },
  {
   "cell_type": "code",
   "execution_count": 9,
   "metadata": {},
   "outputs": [],
   "source": [
    "3.\n",
    "assert True, 'Always triggers an AssertionError.'"
   ]
  },
  {
   "cell_type": "code",
   "execution_count": null,
   "metadata": {},
   "outputs": [],
   "source": [
    "5."
   ]
  },
  {
   "cell_type": "code",
   "execution_count": 10,
   "metadata": {},
   "outputs": [],
   "source": [
    "import logging\n",
    "logging.basicConfig(\n",
    "    filename='programLog.txt',\n",
    "    level=logging.DEBUG,\n",
    "    format='%(asctime)s - %(levelname)s - %(message)s'\n",
    ")"
   ]
  },
  {
   "cell_type": "code",
   "execution_count": null,
   "metadata": {},
   "outputs": [],
   "source": [
    "6.\n",
    "logging.debug() - variable's state and small details\n",
    "logging.info() - general events, confirm a program is working\n",
    "logging.warning() - potiental problem to work on in the future\n",
    "logging.error() - record an error that caused program to fail to do something\n",
    "logging.critical() - fatal error that has caused\n"
   ]
  },
  {
   "cell_type": "code",
   "execution_count": null,
   "metadata": {},
   "outputs": [],
   "source": [
    "7.\n",
    "logging.disable(logging.DEBUG)\n"
   ]
  },
  {
   "cell_type": "code",
   "execution_count": null,
   "metadata": {},
   "outputs": [],
   "source": [
    "8.\n",
    "Because with print, when your program is ready for production, you still\n",
    "have to \"remove\" or comment it out. Verses logging message, you can toggle\n",
    "the setting on/off or write to a file (send to a server). It is more flexible\n",
    "especially with logging level 1-5.\n"
   ]
  },
  {
   "cell_type": "code",
   "execution_count": null,
   "metadata": {},
   "outputs": [],
   "source": [
    "9.\n",
    "Step - one line execution at a time\n",
    "Over - excecute the next line of code, but if it is a program, it will\n",
    "       complete the entire function call.\n",
    "out  - execute the lines of code unti it returns from the current function.\n",
    "      (out is useful when you stepped into a function call).\n"
   ]
  },
  {
   "cell_type": "code",
   "execution_count": null,
   "metadata": {},
   "outputs": [],
   "source": [
    "10.\n",
    "Go runs until the program terminate or reaches a breakpoint set."
   ]
  },
  {
   "cell_type": "code",
   "execution_count": null,
   "metadata": {},
   "outputs": [],
   "source": [
    "11./12.\n",
    "When you have Debugger enabled and you can right click on any lines\n",
    "# to create a breakpoint. During Go - it will stop there and await your next\n",
    "# command."
   ]
  }
 ],
 "metadata": {
  "kernelspec": {
   "display_name": "Python 3",
   "language": "python",
   "name": "python3"
  },
  "language_info": {
   "codemirror_mode": {
    "name": "ipython",
    "version": 3
   },
   "file_extension": ".py",
   "mimetype": "text/x-python",
   "name": "python",
   "nbconvert_exporter": "python",
   "pygments_lexer": "ipython3",
   "version": "3.7.4"
  }
 },
 "nbformat": 4,
 "nbformat_minor": 2
}
