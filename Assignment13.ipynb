{
 "cells": [
  {
   "cell_type": "code",
   "execution_count": null,
   "metadata": {},
   "outputs": [],
   "source": [
    "1.\n",
    "Excel is more superior when compared with the CSV file format; thus, CSV consumes less amount of file size when the user is importing data; \n",
    "it is a much faster format compared to excel. CSV does not manipulate data and stores it as-is. \n",
    "Excel also allows the user the add-in feature."
   ]
  },
  {
   "cell_type": "code",
   "execution_count": null,
   "metadata": {},
   "outputs": [],
   "source": [
    "2.\n",
    "Suppose our CSV file was using tab as a delimiter. \n",
    "To read such files, we can pass optional parameters to the csv.reader() function.\n",
    "# Syntax\n",
    "csv.reader(csvfile, dialect='excel', **optional_parameters"
   ]
  },
  {
   "cell_type": "code",
   "execution_count": null,
   "metadata": {},
   "outputs": [],
   "source": [
    "# Example\n",
    "import csv\n",
    "with open('people.csv', 'r',) as file:\n",
    "    reader = csv.reader(file, delimiter = '\\t')\n",
    "    for row in reader:\n",
    "        print(row)"
   ]
  },
  {
   "cell_type": "code",
   "execution_count": null,
   "metadata": {},
   "outputs": [],
   "source": [
    "As you can see from the syntax, we can also pass the dialect parameter to the csv.reader() function. \n",
    "The dialect parameter allows us to make the function more flexible. "
   ]
  },
  {
   "cell_type": "code",
   "execution_count": null,
   "metadata": {},
   "outputs": [],
   "source": [
    "Similarly, \n",
    "# Syntax\n",
    "To write to a CSV file in Python, we can use the csv.writer() function.\n",
    "The csv.writer() function returns a writer object that converts the user's data into a delimited string.\n",
    "This string can later be used to write into CSV files using the writerow() function."
   ]
  },
  {
   "cell_type": "code",
   "execution_count": null,
   "metadata": {},
   "outputs": [],
   "source": [
    "3. \n",
    "In order to open a file for reading or writing purposes, we must use the built-in open() function.\n",
    "The open() function uses two arguments.\n",
    "Where,\n",
    "    File_obj also called handle is the variable to add the file object.\n",
    "    filename: Name of the file.\n",
    "    mode: To tell the interpreter which way the file will be used."
   ]
  },
  {
   "cell_type": "code",
   "execution_count": null,
   "metadata": {},
   "outputs": [],
   "source": [
    "4.\n",
    "The csv. writer writerow method takes an iterable as an argument.\n",
    "Your result set has to be a list (rows) of lists (columns)."
   ]
  },
  {
   "cell_type": "code",
   "execution_count": null,
   "metadata": {},
   "outputs": [],
   "source": [
    "5.\n",
    "The delimiter and lineterminator Keyword Arguments\n",
    "The line terminator is the character that comes at the end of a row. By default, the line terminator is a newline. \n",
    "You can change characters to different values by using the delimiter and lineterminator keyword arguments with csv. writer() ."
   ]
  },
  {
   "cell_type": "code",
   "execution_count": null,
   "metadata": {},
   "outputs": [],
   "source": [
    "6.\n",
    "loads() method return Python data structure of JSON string or data."
   ]
  },
  {
   "cell_type": "code",
   "execution_count": null,
   "metadata": {},
   "outputs": [],
   "source": [
    "7.\n",
    "loads() method return Python data structure of JSON string or data.\n",
    "Python supports JSON through a built-in package called json and\n",
    "this module can be used to convert a python dictionary to JSON object."
   ]
  }
 ],
 "metadata": {
  "kernelspec": {
   "display_name": "Python 3",
   "language": "python",
   "name": "python3"
  },
  "language_info": {
   "codemirror_mode": {
    "name": "ipython",
    "version": 3
   },
   "file_extension": ".py",
   "mimetype": "text/x-python",
   "name": "python",
   "nbconvert_exporter": "python",
   "pygments_lexer": "ipython3",
   "version": "3.7.4"
  }
 },
 "nbformat": 4,
 "nbformat_minor": 2
}
